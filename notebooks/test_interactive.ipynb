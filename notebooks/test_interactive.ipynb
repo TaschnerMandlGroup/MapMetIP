{
 "cells": [
  {
   "cell_type": "code",
   "execution_count": 3,
   "metadata": {},
   "outputs": [
    {
     "data": {
      "application/vnd.jupyter.widget-view+json": {
       "model_id": "f5784175e4994f87a0d84cf871354f7e",
       "version_major": 2,
       "version_minor": 0
      },
      "text/plain": [
       "VBox(children=(FigureWidget({\n",
       "    'data': [{'colorscale': [[0.0, '#440154'], [0.1111111111111111, '#482878'],\n",
       "…"
      ]
     },
     "execution_count": 3,
     "metadata": {},
     "output_type": "execute_result"
    }
   ],
   "source": [
    "import plotly.graph_objs as go\n",
    "import plotly.offline as py\n",
    "\n",
    "import numpy as np\n",
    "from ipywidgets import interactive, HBox, VBox\n",
    "\n",
    "py.init_notebook_mode()\n",
    "\n",
    "x = y = np.arange(-5, 5, 0.1)\n",
    "yt = x[:, np.newaxis]\n",
    "z = np.cos(x * yt) + np.sin(x * yt) * 2\n",
    "\n",
    "f = go.FigureWidget(\n",
    "    data=[\n",
    "        go.Surface(z=z, x=x, y=y,\n",
    "                   colorscale='Viridis')],\n",
    "    layout=go.Layout(scene=go.layout.Scene(\n",
    "        camera=go.layout.scene.Camera(\n",
    "            up=dict(x=0, y=0, z=1),\n",
    "            center=dict(x=0, y=0, z=0),\n",
    "            eye=dict(x=1.25, y=1.25, z=1.25))\n",
    "    ))\n",
    ")\n",
    "\n",
    "\n",
    "def update_z(frequency):\n",
    "    f.data[0].z = np.cos(x * yt * frequency / 10.0) + np.sin(x * yt * frequency / 10.0) * 2\n",
    "\n",
    "\n",
    "freq_slider = interactive(update_z, frequency=(1, 50, 0.1))\n",
    "vb = VBox((f, freq_slider))\n",
    "vb.layout.align_items = 'center'\n",
    "vb\n"
   ]
  },
  {
   "cell_type": "code",
   "execution_count": null,
   "metadata": {},
   "outputs": [],
   "source": []
  }
 ],
 "metadata": {
  "interpreter": {
   "hash": "825cd8a77e3b21009ab2d7abb6a1df5be1c6fdf92f779635ba0b2c58e7869995"
  },
  "kernelspec": {
   "display_name": "Python 3.9.18 ('interactive': conda)",
   "language": "python",
   "name": "python3"
  },
  "language_info": {
   "codemirror_mode": {
    "name": "ipython",
    "version": 3
   },
   "file_extension": ".py",
   "mimetype": "text/x-python",
   "name": "python",
   "nbconvert_exporter": "python",
   "pygments_lexer": "ipython3",
   "version": "3.9.18"
  },
  "orig_nbformat": 4
 },
 "nbformat": 4,
 "nbformat_minor": 2
}
